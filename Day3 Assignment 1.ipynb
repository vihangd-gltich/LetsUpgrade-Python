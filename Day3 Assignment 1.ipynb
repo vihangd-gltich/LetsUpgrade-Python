{
 "cells": [
  {
   "cell_type": "code",
   "execution_count": 13,
   "metadata": {},
   "outputs": [
    {
     "name": "stdout",
     "output_type": "stream",
     "text": [
      "Enter the altitude6500\n",
      "Go back and try again\n"
     ]
    }
   ],
   "source": [
    "alt=input(\"Enter the altitude\")\n",
    "alt=int(alt)\n",
    "\n",
    "if alt <=1000:\n",
    "    print(\"Safe to land\")\n",
    "elif alt <=5000:\n",
    "    print(\"Bring down to 1000\")\n",
    "else:\n",
    "    print(\"Go back and try again\")"
   ]
  },
  {
   "cell_type": "code",
   "execution_count": null,
   "metadata": {},
   "outputs": [],
   "source": []
  }
 ],
 "metadata": {
  "kernelspec": {
   "display_name": "Python 3",
   "language": "python",
   "name": "python3"
  },
  "language_info": {
   "codemirror_mode": {
    "name": "ipython",
    "version": 3
   },
   "file_extension": ".py",
   "mimetype": "text/x-python",
   "name": "python",
   "nbconvert_exporter": "python",
   "pygments_lexer": "ipython3",
   "version": "3.8.3"
  }
 },
 "nbformat": 4,
 "nbformat_minor": 4
}
