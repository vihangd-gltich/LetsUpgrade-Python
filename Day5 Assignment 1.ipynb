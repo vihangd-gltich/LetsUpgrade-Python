{
 "cells": [
  {
   "cell_type": "code",
   "execution_count": 5,
   "metadata": {},
   "outputs": [
    {
     "name": "stdout",
     "output_type": "stream",
     "text": [
      "\n",
      "Enter the length of the list : 3\n",
      "\n",
      "Enter the number for the list : 1\n",
      "\n",
      "Enter the number for the list : 1\n",
      "\n",
      "Enter the number for the list : 5\n",
      "\n",
      "List is :  [1, 1, 5]\n",
      "\n",
      "It's a match\n"
     ]
    }
   ],
   "source": [
    "lst = [1, 1, 5]\n",
    "\n",
    "lst1 = []\n",
    "\n",
    "l = int(input(\"\\nEnter the length of the list : \"))\n",
    "\n",
    "j = 0;\n",
    "\n",
    "\n",
    "for i in range (0,l):\n",
    "\n",
    "    lst1.append(int(input(\"\\nEnter the number for the list : \")))\n",
    "\n",
    "print()\n",
    "\n",
    "print(\"List is : \", lst1)\n",
    "\n",
    "for i in range(0,l):\n",
    "    \n",
    "    if( lst1[i] == lst[j] ):\n",
    "        \n",
    "        j += 1\n",
    "        \n",
    "        i += 1\n",
    "        \n",
    "    else:\n",
    "        \n",
    "        i +=1\n",
    "    \n",
    "if( j == 3 ):\n",
    "\n",
    "    print (\"\\nIt's a match\")\n",
    "\n",
    "else:\n",
    "\n",
    "    print (\"\\nIt's Gone\")\n"
   ]
  },
  {
   "cell_type": "code",
   "execution_count": null,
   "metadata": {},
   "outputs": [],
   "source": []
  }
 ],
 "metadata": {
  "kernelspec": {
   "display_name": "Python 3",
   "language": "python",
   "name": "python3"
  },
  "language_info": {
   "codemirror_mode": {
    "name": "ipython",
    "version": 3
   },
   "file_extension": ".py",
   "mimetype": "text/x-python",
   "name": "python",
   "nbconvert_exporter": "python",
   "pygments_lexer": "ipython3",
   "version": "3.8.3"
  }
 },
 "nbformat": 4,
 "nbformat_minor": 4
}
