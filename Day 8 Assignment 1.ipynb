{
 "cells": [
  {
   "cell_type": "code",
   "execution_count": 1,
   "metadata": {},
   "outputs": [],
   "source": [
    "def getInput(calculate_arg_fun):\n",
    "    \n",
    "    def wrap_function():\n",
    "    \n",
    "        a = int(input(\"\\nEnter First Number \"))\n",
    "        \n",
    "        b = int(input(\"\\nEnter Second Number \"))\n",
    "        \n",
    "        calculate_arg_fun(a,b)   \n",
    "    \n",
    "    return wrap_function"
   ]
  },
  {
   "cell_type": "code",
   "execution_count": 3,
   "metadata": {},
   "outputs": [],
   "source": [
    "@getInput\n",
    "\n",
    "def Even(start, last):\n",
    "    \n",
    "    print(\"\\nThe Even numbers in the range\",start,\"to\",last,\"is :\\n\")\n",
    "\n",
    "    for n in range(start, last + 1): \n",
    "      \n",
    "        if n % 2 == 0: \n",
    "            \n",
    "            print(n, end=\" \")"
   ]
  },
  {
   "cell_type": "code",
   "execution_count": 4,
   "metadata": {},
   "outputs": [
    {
     "name": "stdout",
     "output_type": "stream",
     "text": [
      "\n",
      "Enter First Number 20\n",
      "\n",
      "Enter Second Number 40\n",
      "\n",
      "The Even numbers in the range 20 to 40 is :\n",
      "\n",
      "20 22 24 26 28 30 32 34 36 38 40 "
     ]
    }
   ],
   "source": [
    "Even()"
   ]
  },
  {
   "cell_type": "code",
   "execution_count": null,
   "metadata": {},
   "outputs": [],
   "source": []
  }
 ],
 "metadata": {
  "kernelspec": {
   "display_name": "Python 3",
   "language": "python",
   "name": "python3"
  },
  "language_info": {
   "codemirror_mode": {
    "name": "ipython",
    "version": 3
   },
   "file_extension": ".py",
   "mimetype": "text/x-python",
   "name": "python",
   "nbconvert_exporter": "python",
   "pygments_lexer": "ipython3",
   "version": "3.8.3"
  }
 },
 "nbformat": 4,
 "nbformat_minor": 4
}
