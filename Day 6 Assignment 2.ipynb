{
 "cells": [
  {
   "cell_type": "code",
   "execution_count": 1,
   "metadata": {},
   "outputs": [
    {
     "name": "stdout",
     "output_type": "stream",
     "text": [
      "\n",
      "Enter the radius of cone : 6\n",
      "\n",
      "Enter the height of cone : 9\n",
      "\n",
      "Volume Of Cone is : 339.29200658769764\n",
      "\n",
      "Surface Area Of Cone is : 282.7433388230814\n"
     ]
    }
   ],
   "source": [
    "import math\n",
    "\n",
    "pi = math.pi\n",
    "\n",
    "class cone:\n",
    "    \n",
    "    def __init__(self,r,h): \n",
    "\n",
    "        self.r=r\n",
    "        \n",
    "        self.h=h\n",
    "        \n",
    "    def volume(self):\n",
    "        \n",
    "        result = (1 / 3) * pi * self.r * self.r * self.h\n",
    "        \n",
    "        print(\"\\nVolume Of Cone is :\",result)\n",
    "        \n",
    "    def surfacearea(self):\n",
    "        \n",
    "        result = pi * self.r * self.h + pi * self.r * self.r\n",
    "         \n",
    "        print(\"\\nSurface Area Of Cone is :\",result)\n",
    "        \n",
    "ra = float(input(\"\\nEnter the radius of cone : \"))\n",
    "\n",
    "he = float(input(\"\\nEnter the height of cone : \"))\n",
    "\n",
    "c = cone( ra, he)\n",
    "\n",
    "c.volume()\n",
    "\n",
    "c.surfacearea()"
   ]
  },
  {
   "cell_type": "code",
   "execution_count": null,
   "metadata": {},
   "outputs": [],
   "source": []
  }
 ],
 "metadata": {
  "kernelspec": {
   "display_name": "Python 3",
   "language": "python",
   "name": "python3"
  },
  "language_info": {
   "codemirror_mode": {
    "name": "ipython",
    "version": 3
   },
   "file_extension": ".py",
   "mimetype": "text/x-python",
   "name": "python",
   "nbconvert_exporter": "python",
   "pygments_lexer": "ipython3",
   "version": "3.8.3"
  }
 },
 "nbformat": 4,
 "nbformat_minor": 4
}
