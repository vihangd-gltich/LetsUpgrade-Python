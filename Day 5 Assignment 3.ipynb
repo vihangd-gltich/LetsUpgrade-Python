{
 "cells": [
  {
   "cell_type": "code",
   "execution_count": 2,
   "metadata": {},
   "outputs": [
    {
     "name": "stdout",
     "output_type": "stream",
     "text": [
      "\n",
      " Original list : \n",
      "\n",
      "['hello letsupgrade', 'good to learn python']\n",
      "\n",
      " Capitalized list is : \n",
      "\n",
      "['Hello Letsupgrade', 'Good To Learn Python']\n"
     ]
    }
   ],
   "source": [
    "lst = [\"hello letsupgrade\",\"good to learn python\"]\n",
    "\n",
    "print(\"\\n Original list : \\n\")\n",
    "\n",
    "print(lst)\n",
    "\n",
    "result = list(map(lambda words: \" \".join([word.capitalize() for word in words.split( )]) ,lst))\n",
    "\n",
    "print(\"\\n Capitalized list is : \\n\")\n",
    "\n",
    "print(result)"
   ]
  },
  {
   "cell_type": "code",
   "execution_count": null,
   "metadata": {},
   "outputs": [],
   "source": []
  }
 ],
 "metadata": {
  "kernelspec": {
   "display_name": "Python 3",
   "language": "python",
   "name": "python3"
  },
  "language_info": {
   "codemirror_mode": {
    "name": "ipython",
    "version": 3
   },
   "file_extension": ".py",
   "mimetype": "text/x-python",
   "name": "python",
   "nbconvert_exporter": "python",
   "pygments_lexer": "ipython3",
   "version": "3.8.3"
  }
 },
 "nbformat": 4,
 "nbformat_minor": 4
}
