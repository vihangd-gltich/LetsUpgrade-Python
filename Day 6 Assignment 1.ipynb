{
 "cells": [
  {
   "cell_type": "code",
   "execution_count": 2,
   "metadata": {},
   "outputs": [
    {
     "name": "stdout",
     "output_type": "stream",
     "text": [
      "\n",
      "WELCOME TO Your Bank Account\n",
      "\n",
      "Account Holder Name is : Vihang\n",
      "\n",
      "Initial Account Balance is : 0\n",
      "\n",
      "Enter amount to Deposit : 900\n",
      "\n",
      "Amount Deposited is : 900.0\n",
      "\n",
      "Enter amount to be Withdrawn : 500\n",
      "\n",
      "You have Withdrawn : 500.0\n",
      "\n",
      "Net Avaliable balance is :  400.0\n"
     ]
    }
   ],
   "source": [
    "class BankAccount: \n",
    "\n",
    "    def __init__(self): \n",
    "\n",
    "        self.ownerName=\"Vihang\"\n",
    "        \n",
    "        self.Balance=0\n",
    "        \n",
    "    def deposit(self): \n",
    "        \n",
    "        Amount=float(input(\"\\nEnter amount to Deposit : \")) \n",
    "        \n",
    "        self.Balance += Amount \n",
    "        \n",
    "        print(\"\\nAmount Deposited is :\",Amount) \n",
    "  \n",
    "    def withdraw(self): \n",
    "        \n",
    "        Amount = float(input(\"\\nEnter amount to be Withdrawn : \")) \n",
    "        \n",
    "        if self.Balance >= Amount: \n",
    "        \n",
    "            self.Balance -= Amount \n",
    "            \n",
    "            print(\"\\nYou have Withdrawn :\", Amount) \n",
    "        \n",
    "        else: \n",
    "        \n",
    "            print(\"\\nInsufficient balance in the account...\") \n",
    "\n",
    "print(\"\\nWELCOME TO Your Bank Account\")\n",
    "    \n",
    "BA = BankAccount()\n",
    "\n",
    "print(\"\\nAccount Holder Name is :\",BA.ownerName)\n",
    "    \n",
    "print(\"\\nInitial Account Balance is :\",BA.Balance)\n",
    "   \n",
    "BA.deposit();\n",
    "    \n",
    "BA.withdraw();\n",
    "    \n",
    "print(\"\\nNet Avaliable balance is : \",BA.Balance)"
   ]
  },
  {
   "cell_type": "code",
   "execution_count": null,
   "metadata": {},
   "outputs": [],
   "source": []
  }
 ],
 "metadata": {
  "kernelspec": {
   "display_name": "Python 3",
   "language": "python",
   "name": "python3"
  },
  "language_info": {
   "codemirror_mode": {
    "name": "ipython",
    "version": 3
   },
   "file_extension": ".py",
   "mimetype": "text/x-python",
   "name": "python",
   "nbconvert_exporter": "python",
   "pygments_lexer": "ipython3",
   "version": "3.8.3"
  }
 },
 "nbformat": 4,
 "nbformat_minor": 4
}
